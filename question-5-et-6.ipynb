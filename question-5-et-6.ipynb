{
 "cells": [
  {
   "cell_type": "code",
   "execution_count": 1,
   "metadata": {},
   "outputs": [],
   "source": [
    "import pandas as pd  \n",
    "import numpy as np  \n",
    "import matplotlib.pyplot as plt  \n",
    "%matplotlib inline"
   ]
  },
  {
   "cell_type": "code",
   "execution_count": 2,
   "metadata": {},
   "outputs": [],
   "source": [
    "mnist_train = pd.read_csv(\"D:/datascience/fashion-mnist_train.csv/fashion-mnist_train.csv\") \n",
    "mnist_test = pd.read_csv(\"D:/datascience/fashion-mnist_test.csv/fashion-mnist_test.csv\")  "
   ]
  },
  {
   "cell_type": "markdown",
   "metadata": {},
   "source": [
    "<font size=\"5\">*Nous possédons une Dataset de 60000 images pour le training et 10000 pour le test*</font>"
   ]
  },
  {
   "cell_type": "code",
   "execution_count": 3,
   "metadata": {},
   "outputs": [
    {
     "name": "stdout",
     "output_type": "stream",
     "text": [
      "(60000, 785)\n",
      "(10000, 785)\n"
     ]
    }
   ],
   "source": [
    "print(mnist_train.shape)\n",
    "print(mnist_test.shape)"
   ]
  },
  {
   "cell_type": "markdown",
   "metadata": {},
   "source": [
    "<font size=\"5\">*Afin de computer rapidement nos solution nous prendront seulment 10000 images de notre dataset train </font>"
   ]
  },
  {
   "cell_type": "code",
   "execution_count": 3,
   "metadata": {},
   "outputs": [],
   "source": [
    "mnist_train_bis=mnist_train[:10000]\n",
    "mnist_test_bis=mnist_test[:100000]"
   ]
  },
  {
   "cell_type": "markdown",
   "metadata": {},
   "source": [
    "<font size=\"5\">*on visualise les 15 prémière ligne de notre dataset on constate que les labels sont déjà mélangés* </font>"
   ]
  },
  {
   "cell_type": "code",
   "execution_count": 6,
   "metadata": {},
   "outputs": [
    {
     "data": {
      "text/html": [
       "<div>\n",
       "<style scoped>\n",
       "    .dataframe tbody tr th:only-of-type {\n",
       "        vertical-align: middle;\n",
       "    }\n",
       "\n",
       "    .dataframe tbody tr th {\n",
       "        vertical-align: top;\n",
       "    }\n",
       "\n",
       "    .dataframe thead th {\n",
       "        text-align: right;\n",
       "    }\n",
       "</style>\n",
       "<table border=\"1\" class=\"dataframe\">\n",
       "  <thead>\n",
       "    <tr style=\"text-align: right;\">\n",
       "      <th></th>\n",
       "      <th>label</th>\n",
       "      <th>pixel1</th>\n",
       "      <th>pixel2</th>\n",
       "      <th>pixel3</th>\n",
       "      <th>pixel4</th>\n",
       "      <th>pixel5</th>\n",
       "      <th>pixel6</th>\n",
       "      <th>pixel7</th>\n",
       "      <th>pixel8</th>\n",
       "      <th>pixel9</th>\n",
       "      <th>...</th>\n",
       "      <th>pixel775</th>\n",
       "      <th>pixel776</th>\n",
       "      <th>pixel777</th>\n",
       "      <th>pixel778</th>\n",
       "      <th>pixel779</th>\n",
       "      <th>pixel780</th>\n",
       "      <th>pixel781</th>\n",
       "      <th>pixel782</th>\n",
       "      <th>pixel783</th>\n",
       "      <th>pixel784</th>\n",
       "    </tr>\n",
       "  </thead>\n",
       "  <tbody>\n",
       "    <tr>\n",
       "      <th>0</th>\n",
       "      <td>2</td>\n",
       "      <td>0</td>\n",
       "      <td>0</td>\n",
       "      <td>0</td>\n",
       "      <td>0</td>\n",
       "      <td>0</td>\n",
       "      <td>0</td>\n",
       "      <td>0</td>\n",
       "      <td>0</td>\n",
       "      <td>0</td>\n",
       "      <td>...</td>\n",
       "      <td>0</td>\n",
       "      <td>0</td>\n",
       "      <td>0</td>\n",
       "      <td>0</td>\n",
       "      <td>0</td>\n",
       "      <td>0</td>\n",
       "      <td>0</td>\n",
       "      <td>0</td>\n",
       "      <td>0</td>\n",
       "      <td>0</td>\n",
       "    </tr>\n",
       "    <tr>\n",
       "      <th>1</th>\n",
       "      <td>9</td>\n",
       "      <td>0</td>\n",
       "      <td>0</td>\n",
       "      <td>0</td>\n",
       "      <td>0</td>\n",
       "      <td>0</td>\n",
       "      <td>0</td>\n",
       "      <td>0</td>\n",
       "      <td>0</td>\n",
       "      <td>0</td>\n",
       "      <td>...</td>\n",
       "      <td>0</td>\n",
       "      <td>0</td>\n",
       "      <td>0</td>\n",
       "      <td>0</td>\n",
       "      <td>0</td>\n",
       "      <td>0</td>\n",
       "      <td>0</td>\n",
       "      <td>0</td>\n",
       "      <td>0</td>\n",
       "      <td>0</td>\n",
       "    </tr>\n",
       "    <tr>\n",
       "      <th>2</th>\n",
       "      <td>6</td>\n",
       "      <td>0</td>\n",
       "      <td>0</td>\n",
       "      <td>0</td>\n",
       "      <td>0</td>\n",
       "      <td>0</td>\n",
       "      <td>0</td>\n",
       "      <td>0</td>\n",
       "      <td>5</td>\n",
       "      <td>0</td>\n",
       "      <td>...</td>\n",
       "      <td>0</td>\n",
       "      <td>0</td>\n",
       "      <td>0</td>\n",
       "      <td>30</td>\n",
       "      <td>43</td>\n",
       "      <td>0</td>\n",
       "      <td>0</td>\n",
       "      <td>0</td>\n",
       "      <td>0</td>\n",
       "      <td>0</td>\n",
       "    </tr>\n",
       "    <tr>\n",
       "      <th>3</th>\n",
       "      <td>0</td>\n",
       "      <td>0</td>\n",
       "      <td>0</td>\n",
       "      <td>0</td>\n",
       "      <td>1</td>\n",
       "      <td>2</td>\n",
       "      <td>0</td>\n",
       "      <td>0</td>\n",
       "      <td>0</td>\n",
       "      <td>0</td>\n",
       "      <td>...</td>\n",
       "      <td>3</td>\n",
       "      <td>0</td>\n",
       "      <td>0</td>\n",
       "      <td>0</td>\n",
       "      <td>0</td>\n",
       "      <td>1</td>\n",
       "      <td>0</td>\n",
       "      <td>0</td>\n",
       "      <td>0</td>\n",
       "      <td>0</td>\n",
       "    </tr>\n",
       "    <tr>\n",
       "      <th>4</th>\n",
       "      <td>3</td>\n",
       "      <td>0</td>\n",
       "      <td>0</td>\n",
       "      <td>0</td>\n",
       "      <td>0</td>\n",
       "      <td>0</td>\n",
       "      <td>0</td>\n",
       "      <td>0</td>\n",
       "      <td>0</td>\n",
       "      <td>0</td>\n",
       "      <td>...</td>\n",
       "      <td>0</td>\n",
       "      <td>0</td>\n",
       "      <td>0</td>\n",
       "      <td>0</td>\n",
       "      <td>0</td>\n",
       "      <td>0</td>\n",
       "      <td>0</td>\n",
       "      <td>0</td>\n",
       "      <td>0</td>\n",
       "      <td>0</td>\n",
       "    </tr>\n",
       "    <tr>\n",
       "      <th>5</th>\n",
       "      <td>4</td>\n",
       "      <td>0</td>\n",
       "      <td>0</td>\n",
       "      <td>0</td>\n",
       "      <td>5</td>\n",
       "      <td>4</td>\n",
       "      <td>5</td>\n",
       "      <td>5</td>\n",
       "      <td>3</td>\n",
       "      <td>5</td>\n",
       "      <td>...</td>\n",
       "      <td>7</td>\n",
       "      <td>8</td>\n",
       "      <td>7</td>\n",
       "      <td>4</td>\n",
       "      <td>3</td>\n",
       "      <td>7</td>\n",
       "      <td>5</td>\n",
       "      <td>0</td>\n",
       "      <td>0</td>\n",
       "      <td>0</td>\n",
       "    </tr>\n",
       "    <tr>\n",
       "      <th>6</th>\n",
       "      <td>4</td>\n",
       "      <td>0</td>\n",
       "      <td>0</td>\n",
       "      <td>0</td>\n",
       "      <td>0</td>\n",
       "      <td>0</td>\n",
       "      <td>0</td>\n",
       "      <td>0</td>\n",
       "      <td>0</td>\n",
       "      <td>0</td>\n",
       "      <td>...</td>\n",
       "      <td>14</td>\n",
       "      <td>0</td>\n",
       "      <td>0</td>\n",
       "      <td>0</td>\n",
       "      <td>0</td>\n",
       "      <td>0</td>\n",
       "      <td>0</td>\n",
       "      <td>0</td>\n",
       "      <td>0</td>\n",
       "      <td>0</td>\n",
       "    </tr>\n",
       "    <tr>\n",
       "      <th>7</th>\n",
       "      <td>5</td>\n",
       "      <td>0</td>\n",
       "      <td>0</td>\n",
       "      <td>0</td>\n",
       "      <td>0</td>\n",
       "      <td>0</td>\n",
       "      <td>0</td>\n",
       "      <td>0</td>\n",
       "      <td>0</td>\n",
       "      <td>0</td>\n",
       "      <td>...</td>\n",
       "      <td>0</td>\n",
       "      <td>0</td>\n",
       "      <td>0</td>\n",
       "      <td>0</td>\n",
       "      <td>0</td>\n",
       "      <td>0</td>\n",
       "      <td>0</td>\n",
       "      <td>0</td>\n",
       "      <td>0</td>\n",
       "      <td>0</td>\n",
       "    </tr>\n",
       "    <tr>\n",
       "      <th>8</th>\n",
       "      <td>4</td>\n",
       "      <td>0</td>\n",
       "      <td>0</td>\n",
       "      <td>0</td>\n",
       "      <td>0</td>\n",
       "      <td>0</td>\n",
       "      <td>0</td>\n",
       "      <td>3</td>\n",
       "      <td>2</td>\n",
       "      <td>0</td>\n",
       "      <td>...</td>\n",
       "      <td>1</td>\n",
       "      <td>0</td>\n",
       "      <td>0</td>\n",
       "      <td>0</td>\n",
       "      <td>0</td>\n",
       "      <td>0</td>\n",
       "      <td>0</td>\n",
       "      <td>0</td>\n",
       "      <td>0</td>\n",
       "      <td>0</td>\n",
       "    </tr>\n",
       "    <tr>\n",
       "      <th>9</th>\n",
       "      <td>8</td>\n",
       "      <td>0</td>\n",
       "      <td>0</td>\n",
       "      <td>0</td>\n",
       "      <td>0</td>\n",
       "      <td>0</td>\n",
       "      <td>0</td>\n",
       "      <td>0</td>\n",
       "      <td>0</td>\n",
       "      <td>0</td>\n",
       "      <td>...</td>\n",
       "      <td>203</td>\n",
       "      <td>214</td>\n",
       "      <td>166</td>\n",
       "      <td>0</td>\n",
       "      <td>0</td>\n",
       "      <td>0</td>\n",
       "      <td>0</td>\n",
       "      <td>0</td>\n",
       "      <td>0</td>\n",
       "      <td>0</td>\n",
       "    </tr>\n",
       "    <tr>\n",
       "      <th>10</th>\n",
       "      <td>0</td>\n",
       "      <td>0</td>\n",
       "      <td>0</td>\n",
       "      <td>0</td>\n",
       "      <td>0</td>\n",
       "      <td>1</td>\n",
       "      <td>0</td>\n",
       "      <td>0</td>\n",
       "      <td>0</td>\n",
       "      <td>0</td>\n",
       "      <td>...</td>\n",
       "      <td>164</td>\n",
       "      <td>177</td>\n",
       "      <td>163</td>\n",
       "      <td>0</td>\n",
       "      <td>0</td>\n",
       "      <td>1</td>\n",
       "      <td>0</td>\n",
       "      <td>0</td>\n",
       "      <td>0</td>\n",
       "      <td>0</td>\n",
       "    </tr>\n",
       "    <tr>\n",
       "      <th>11</th>\n",
       "      <td>8</td>\n",
       "      <td>0</td>\n",
       "      <td>0</td>\n",
       "      <td>0</td>\n",
       "      <td>0</td>\n",
       "      <td>0</td>\n",
       "      <td>0</td>\n",
       "      <td>0</td>\n",
       "      <td>0</td>\n",
       "      <td>0</td>\n",
       "      <td>...</td>\n",
       "      <td>9</td>\n",
       "      <td>10</td>\n",
       "      <td>9</td>\n",
       "      <td>9</td>\n",
       "      <td>8</td>\n",
       "      <td>1</td>\n",
       "      <td>0</td>\n",
       "      <td>0</td>\n",
       "      <td>0</td>\n",
       "      <td>0</td>\n",
       "    </tr>\n",
       "    <tr>\n",
       "      <th>12</th>\n",
       "      <td>9</td>\n",
       "      <td>0</td>\n",
       "      <td>0</td>\n",
       "      <td>0</td>\n",
       "      <td>0</td>\n",
       "      <td>0</td>\n",
       "      <td>0</td>\n",
       "      <td>0</td>\n",
       "      <td>0</td>\n",
       "      <td>0</td>\n",
       "      <td>...</td>\n",
       "      <td>0</td>\n",
       "      <td>0</td>\n",
       "      <td>0</td>\n",
       "      <td>0</td>\n",
       "      <td>0</td>\n",
       "      <td>0</td>\n",
       "      <td>0</td>\n",
       "      <td>0</td>\n",
       "      <td>0</td>\n",
       "      <td>0</td>\n",
       "    </tr>\n",
       "    <tr>\n",
       "      <th>13</th>\n",
       "      <td>0</td>\n",
       "      <td>0</td>\n",
       "      <td>0</td>\n",
       "      <td>0</td>\n",
       "      <td>0</td>\n",
       "      <td>0</td>\n",
       "      <td>0</td>\n",
       "      <td>0</td>\n",
       "      <td>0</td>\n",
       "      <td>0</td>\n",
       "      <td>...</td>\n",
       "      <td>0</td>\n",
       "      <td>0</td>\n",
       "      <td>0</td>\n",
       "      <td>0</td>\n",
       "      <td>0</td>\n",
       "      <td>0</td>\n",
       "      <td>1</td>\n",
       "      <td>0</td>\n",
       "      <td>0</td>\n",
       "      <td>0</td>\n",
       "    </tr>\n",
       "    <tr>\n",
       "      <th>14</th>\n",
       "      <td>2</td>\n",
       "      <td>0</td>\n",
       "      <td>0</td>\n",
       "      <td>0</td>\n",
       "      <td>0</td>\n",
       "      <td>1</td>\n",
       "      <td>1</td>\n",
       "      <td>0</td>\n",
       "      <td>0</td>\n",
       "      <td>0</td>\n",
       "      <td>...</td>\n",
       "      <td>0</td>\n",
       "      <td>0</td>\n",
       "      <td>118</td>\n",
       "      <td>190</td>\n",
       "      <td>162</td>\n",
       "      <td>82</td>\n",
       "      <td>0</td>\n",
       "      <td>0</td>\n",
       "      <td>0</td>\n",
       "      <td>0</td>\n",
       "    </tr>\n",
       "  </tbody>\n",
       "</table>\n",
       "<p>15 rows × 785 columns</p>\n",
       "</div>"
      ],
      "text/plain": [
       "    label  pixel1  pixel2  pixel3  pixel4  pixel5  pixel6  pixel7  pixel8  \\\n",
       "0       2       0       0       0       0       0       0       0       0   \n",
       "1       9       0       0       0       0       0       0       0       0   \n",
       "2       6       0       0       0       0       0       0       0       5   \n",
       "3       0       0       0       0       1       2       0       0       0   \n",
       "4       3       0       0       0       0       0       0       0       0   \n",
       "5       4       0       0       0       5       4       5       5       3   \n",
       "6       4       0       0       0       0       0       0       0       0   \n",
       "7       5       0       0       0       0       0       0       0       0   \n",
       "8       4       0       0       0       0       0       0       3       2   \n",
       "9       8       0       0       0       0       0       0       0       0   \n",
       "10      0       0       0       0       0       1       0       0       0   \n",
       "11      8       0       0       0       0       0       0       0       0   \n",
       "12      9       0       0       0       0       0       0       0       0   \n",
       "13      0       0       0       0       0       0       0       0       0   \n",
       "14      2       0       0       0       0       1       1       0       0   \n",
       "\n",
       "    pixel9  ...  pixel775  pixel776  pixel777  pixel778  pixel779  pixel780  \\\n",
       "0        0  ...         0         0         0         0         0         0   \n",
       "1        0  ...         0         0         0         0         0         0   \n",
       "2        0  ...         0         0         0        30        43         0   \n",
       "3        0  ...         3         0         0         0         0         1   \n",
       "4        0  ...         0         0         0         0         0         0   \n",
       "5        5  ...         7         8         7         4         3         7   \n",
       "6        0  ...        14         0         0         0         0         0   \n",
       "7        0  ...         0         0         0         0         0         0   \n",
       "8        0  ...         1         0         0         0         0         0   \n",
       "9        0  ...       203       214       166         0         0         0   \n",
       "10       0  ...       164       177       163         0         0         1   \n",
       "11       0  ...         9        10         9         9         8         1   \n",
       "12       0  ...         0         0         0         0         0         0   \n",
       "13       0  ...         0         0         0         0         0         0   \n",
       "14       0  ...         0         0       118       190       162        82   \n",
       "\n",
       "    pixel781  pixel782  pixel783  pixel784  \n",
       "0          0         0         0         0  \n",
       "1          0         0         0         0  \n",
       "2          0         0         0         0  \n",
       "3          0         0         0         0  \n",
       "4          0         0         0         0  \n",
       "5          5         0         0         0  \n",
       "6          0         0         0         0  \n",
       "7          0         0         0         0  \n",
       "8          0         0         0         0  \n",
       "9          0         0         0         0  \n",
       "10         0         0         0         0  \n",
       "11         0         0         0         0  \n",
       "12         0         0         0         0  \n",
       "13         1         0         0         0  \n",
       "14         0         0         0         0  \n",
       "\n",
       "[15 rows x 785 columns]"
      ]
     },
     "execution_count": 6,
     "metadata": {},
     "output_type": "execute_result"
    }
   ],
   "source": [
    "mnist_train.head(15)"
   ]
  },
  {
   "cell_type": "markdown",
   "metadata": {},
   "source": [
    "<font size=\"5\">*Simple ligne de code pour crée un jeu dataframe avec label uniquement et un autre sans la colonne label*</font>"
   ]
  },
  {
   "cell_type": "code",
   "execution_count": 4,
   "metadata": {},
   "outputs": [],
   "source": [
    "x_train = mnist_train_bis.drop('label', axis=1)  \n",
    "y_train=mnist_train_bis['label']"
   ]
  },
  {
   "cell_type": "code",
   "execution_count": 5,
   "metadata": {},
   "outputs": [],
   "source": [
    "x_test = mnist_test_bis.drop('label', axis=1)  \n",
    "y_test=mnist_test_bis['label']"
   ]
  },
  {
   "cell_type": "markdown",
   "metadata": {},
   "source": [
    "<font size=\"5\">*On commencera seulment par changer le noyaux au debut de l expériance*</font> "
   ]
  },
  {
   "cell_type": "markdown",
   "metadata": {},
   "source": [
    "<font size=\"5\">*Les algorithmes SVM utilisent un ensemble de fonctions mathématiques définies en tant que noyau. La fonction du noyau est de prendre les données en entrée et de les transformer dans la forme requise. Différents algorithmes SVM utilisent différents types de fonctions du noyau. Ces fonctions peuvent être de types différents. Par exemple, une fonction de base radiale (RBF), linéaire, non linéaire, polynomiale et sigmoïde.\n",
    "Introduisez les fonctions du noyau pour les données de séquence, les graphiques, le texte, les images, ainsi que les vecteurs. Le type de fonction du noyau le plus utilisé est RBF. Parce qu'il a une réponse localisée et finie sur tout l'axe des x.\n",
    "Les fonctions du noyau renvoient le produit interne entre deux points dans un espace de fonctions approprié. Ainsi, en définissant une notion de similarité, avec un faible coût en calcul, même dans des espaces high-dimensional.*</font>"
   ]
  },
  {
   "cell_type": "markdown",
   "metadata": {},
   "source": [
    "<font size=\"5\">*LINEAR KERNEL :*</font>"
   ]
  },
  {
   "cell_type": "markdown",
   "metadata": {},
   "source": [
    "<font size=\"5\">*Le noyau linéaire est utilisé lorsque les données sont séparables linéairement, c'est-à-dire qu'elles peuvent être séparées en utilisant une seule ligne. C'est l'un des noyaux les plus utilisés. Il est principalement utilisé quand il y a un grand nombre de fonctionnalités dans un ensemble de données particulier.*</font>"
   ]
  },
  {
   "cell_type": "code",
   "execution_count": 9,
   "metadata": {},
   "outputs": [
    {
     "name": "stdout",
     "output_type": "stream",
     "text": [
      "1.0\n",
      "[[779   7  17  35   5   1 136   1  18   1]\n",
      " [  2 974   2  18   1   1   1   0   1   0]\n",
      " [ 47   5 728  16  97   0 102   0   5   0]\n",
      " [ 85  37  13 794  34   0  34   0   3   0]\n",
      " [  6   1 187  37 674   0  93   0   2   0]\n",
      " [  2   0   0   0   0 898   0  58   5  37]\n",
      " [205   3 138  46 106   0 482   0  20   0]\n",
      " [  0   0   0   0   0  60   0 897   0  43]\n",
      " [ 14   1   7   4   5   8  18   5 938   0]\n",
      " [  0   0   0   0   0  19   0  49   0 932]]\n",
      "              precision    recall  f1-score   support\n",
      "\n",
      "           0       0.68      0.78      0.73      1000\n",
      "           1       0.95      0.97      0.96      1000\n",
      "           2       0.67      0.73      0.70      1000\n",
      "           3       0.84      0.79      0.81      1000\n",
      "           4       0.73      0.67      0.70      1000\n",
      "           5       0.91      0.90      0.90      1000\n",
      "           6       0.56      0.48      0.52      1000\n",
      "           7       0.89      0.90      0.89      1000\n",
      "           8       0.95      0.94      0.94      1000\n",
      "           9       0.92      0.93      0.93      1000\n",
      "\n",
      "   micro avg       0.81      0.81      0.81     10000\n",
      "   macro avg       0.81      0.81      0.81     10000\n",
      "weighted avg       0.81      0.81      0.81     10000\n",
      "\n"
     ]
    }
   ],
   "source": [
    "\n",
    "#Import Library\n",
    "from sklearn import svm\n",
    "#Assumed you have, X (predictor) and Y (target) for training data set and x_test(predictor) of test_dataset\n",
    "# Create SVM classification object \n",
    "model = svm.SVC(kernel='linear', C=1,gamma='scale') \n",
    "# there is various option associated with it, like changing kernel, gamma and C value. Will discuss more # about it in next section.Train the model using the training sets and check score\n",
    "model.fit(x_train, y_train)\n",
    "print(model.score(x_train, y_train))\n",
    "#Predict Output\n",
    "predicted= model.predict(x_test)\n",
    "from sklearn.metrics import classification_report, confusion_matrix  \n",
    "print(confusion_matrix(y_test,predicted))  \n",
    "print(classification_report(y_test,predicted))"
   ]
  },
  {
   "cell_type": "markdown",
   "metadata": {},
   "source": [
    "<font size=\"5\">*POLY KERNEL :*</font>"
   ]
  },
  {
   "cell_type": "markdown",
   "metadata": {},
   "source": [
    "<font size=\"5\">*Ici, notre noyau induit jusqu'à un certain degré l'espace de combinaisons polynomiales de nos caractéristiques*</font>"
   ]
  },
  {
   "cell_type": "markdown",
   "metadata": {},
   "source": [
    "<font size=\"5\">*Populaire parmi les classifications d'images voici l'équation ou d est le nombre de degrés*</font>"
   ]
  },
  {
   "cell_type": "markdown",
   "metadata": {},
   "source": [
    "![title](pic1.png)"
   ]
  },
  {
   "cell_type": "code",
   "execution_count": 10,
   "metadata": {},
   "outputs": [
    {
     "name": "stdout",
     "output_type": "stream",
     "text": [
      "0.8982\n",
      "[[790   2  12  18   0  46 114   0  18   0]\n",
      " [  6 958   5  17   0  10   4   0   0   0]\n",
      " [ 19   0 694   9  84  34 151   0   9   0]\n",
      " [ 35  11   9 863  24  27  30   0   1   0]\n",
      " [  1   1  79  36 736  16 127   0   4   0]\n",
      " [  0   0   0   0   0 936   0  38   4  22]\n",
      " [142   3  67  19  59  57 638   0  14   1]\n",
      " [  0   0   0   0   0 130   0 830   0  40]\n",
      " [  5   0   6   4   1  34  17   7 922   4]\n",
      " [  0   0   0   0   0  37   0  46   0 917]]\n",
      "              precision    recall  f1-score   support\n",
      "\n",
      "           0       0.79      0.79      0.79      1000\n",
      "           1       0.98      0.96      0.97      1000\n",
      "           2       0.80      0.69      0.74      1000\n",
      "           3       0.89      0.86      0.88      1000\n",
      "           4       0.81      0.74      0.77      1000\n",
      "           5       0.71      0.94      0.80      1000\n",
      "           6       0.59      0.64      0.61      1000\n",
      "           7       0.90      0.83      0.86      1000\n",
      "           8       0.95      0.92      0.94      1000\n",
      "           9       0.93      0.92      0.92      1000\n",
      "\n",
      "   micro avg       0.83      0.83      0.83     10000\n",
      "   macro avg       0.84      0.83      0.83     10000\n",
      "weighted avg       0.84      0.83      0.83     10000\n",
      "\n"
     ]
    }
   ],
   "source": [
    "#Import Library\n",
    "from sklearn import svm\n",
    "#Assumed you have, X (predictor) and Y (target) for training data set and x_test(predictor) of test_dataset\n",
    "# Create SVM classification object \n",
    "model = svm.SVC(kernel='poly', C=1,gamma='scale') \n",
    "# there is various option associated with it, like changing kernel, gamma and C value. Will discuss more # about it in next section.Train the model using the training sets and check score\n",
    "model.fit(x_train, y_train)\n",
    "print(model.score(x_train, y_train))\n",
    "#Predict Output\n",
    "predicted= model.predict(x_test)\n",
    "from sklearn.metrics import classification_report, confusion_matrix  \n",
    "print(confusion_matrix(y_test,predicted))  \n",
    "print(classification_report(y_test,predicted))"
   ]
  },
  {
   "cell_type": "markdown",
   "metadata": {},
   "source": [
    "<font size=\"5\">*RBF KERNEL :*</font>"
   ]
  },
  {
   "cell_type": "markdown",
   "metadata": {},
   "source": [
    "<font size=\"5\">*Ici, notre espace induit est un espace de distributions gaussiennes ... chaque point devient une fonction de densité de probabilité (jusqu'à la mise à l'échelle) d'une distribution normale. Dans un tel espace, les produits scalaires sont des intégrales (car nous avons un nombre infini de dimensions!) Et par conséquent, nous avons une flexibilité extrême*</font>"
   ]
  },
  {
   "cell_type": "markdown",
   "metadata": {},
   "source": [
    "<font size=\"5\">*C'est un noyau polyvalent; utilisé quand il n'y a aucune connaissance préalable sur les données*</font>"
   ]
  },
  {
   "cell_type": "markdown",
   "metadata": {},
   "source": [
    "![title](pic2.png)"
   ]
  },
  {
   "cell_type": "code",
   "execution_count": 11,
   "metadata": {},
   "outputs": [
    {
     "name": "stdout",
     "output_type": "stream",
     "text": [
      "0.8992\n",
      "[[829   0   8  45   1   2 101   0  14   0]\n",
      " [  3 962   7  20   0   1   7   0   0   0]\n",
      " [ 11   0 766  11 120   0  85   0   7   0]\n",
      " [ 29   6  11 905  21   0  25   0   3   0]\n",
      " [  1   0  61  36 830   0  69   0   3   0]\n",
      " [  1   0   0   1   0 921   1  49   4  23]\n",
      " [196   0  92  39  74   0 587   0  12   0]\n",
      " [  0   0   0   0   0  33   0 902   0  65]\n",
      " [  3   0   3   4   1   4  16   2 964   3]\n",
      " [  0   0   0   0   0  12   0  40   0 948]]\n",
      "              precision    recall  f1-score   support\n",
      "\n",
      "           0       0.77      0.83      0.80      1000\n",
      "           1       0.99      0.96      0.98      1000\n",
      "           2       0.81      0.77      0.79      1000\n",
      "           3       0.85      0.91      0.88      1000\n",
      "           4       0.79      0.83      0.81      1000\n",
      "           5       0.95      0.92      0.93      1000\n",
      "           6       0.66      0.59      0.62      1000\n",
      "           7       0.91      0.90      0.91      1000\n",
      "           8       0.96      0.96      0.96      1000\n",
      "           9       0.91      0.95      0.93      1000\n",
      "\n",
      "   micro avg       0.86      0.86      0.86     10000\n",
      "   macro avg       0.86      0.86      0.86     10000\n",
      "weighted avg       0.86      0.86      0.86     10000\n",
      "\n"
     ]
    }
   ],
   "source": [
    "#Import Library\n",
    "from sklearn import svm\n",
    "#Assumed you have, X (predictor) and Y (target) for training data set and x_test(predictor) of test_dataset\n",
    "# Create SVM classification object \n",
    "model = svm.SVC(kernel='rbf', C=1,gamma='scale') \n",
    "# there is various option associated with it, like changing kernel, gamma and C value. Will discuss more # about it in next section.Train the model using the training sets and check score\n",
    "model.fit(x_train, y_train)\n",
    "print(model.score(x_train, y_train))\n",
    "#Predict Output\n",
    "predicted= model.predict(x_test)\n",
    "from sklearn.metrics import classification_report, confusion_matrix  \n",
    "print(confusion_matrix(y_test,predicted))  \n",
    "print(classification_report(y_test,predicted))"
   ]
  },
  {
   "cell_type": "markdown",
   "metadata": {},
   "source": [
    "<font size=\"5\">*SIGMOID KERNEL :*</font>"
   ]
  },
  {
   "cell_type": "markdown",
   "metadata": {},
   "source": [
    "<font size=\"5\">*Nous pouvons l'utiliser comme proxy pour les réseaux de neurones. L'équation est :*</font>"
   ]
  },
  {
   "cell_type": "markdown",
   "metadata": {},
   "source": [
    "![title](pic3.png)"
   ]
  },
  {
   "cell_type": "code",
   "execution_count": 12,
   "metadata": {},
   "outputs": [
    {
     "name": "stdout",
     "output_type": "stream",
     "text": [
      "0.3651\n",
      "[[584   2   0  12 397   3   1   0   1   0]\n",
      " [ 54 699   0  12 235   0   0   0   0   0]\n",
      " [429   1  29   0 485   0  54   0   2   0]\n",
      " [268 108   0 229 395   0   0   0   0   0]\n",
      " [569   7  28   4 322   0  69   0   1   0]\n",
      " [  3   1   0   0 298 534   1  80  69  14]\n",
      " [385   3   8   3 553   0  48   0   0   0]\n",
      " [  0   0   0   0  99 154   0 637  48  62]\n",
      " [ 84   0 109   6 491 161  32   0 117   0]\n",
      " [ 11   0  29   1 160 306   9  13  33 438]]\n",
      "              precision    recall  f1-score   support\n",
      "\n",
      "           0       0.24      0.58      0.34      1000\n",
      "           1       0.85      0.70      0.77      1000\n",
      "           2       0.14      0.03      0.05      1000\n",
      "           3       0.86      0.23      0.36      1000\n",
      "           4       0.09      0.32      0.15      1000\n",
      "           5       0.46      0.53      0.49      1000\n",
      "           6       0.22      0.05      0.08      1000\n",
      "           7       0.87      0.64      0.74      1000\n",
      "           8       0.43      0.12      0.18      1000\n",
      "           9       0.85      0.44      0.58      1000\n",
      "\n",
      "   micro avg       0.36      0.36      0.36     10000\n",
      "   macro avg       0.50      0.36      0.37     10000\n",
      "weighted avg       0.50      0.36      0.37     10000\n",
      "\n"
     ]
    }
   ],
   "source": [
    "#Import Library\n",
    "from sklearn import svm\n",
    "#Assumed you have, X (predictor) and Y (target) for training data set and x_test(predictor) of test_dataset\n",
    "# Create SVM classification object \n",
    "model = svm.SVC(kernel='sigmoid', C=1,gamma='scale') \n",
    "# there is various option associated with it, like changing kernel, gamma and C value. Will discuss more # about it in next section.Train the model using the training sets and check score\n",
    "model.fit(x_train, y_train)\n",
    "print(model.score(x_train, y_train))\n",
    "#Predict Output\n",
    "predicted= model.predict(x_test)\n",
    "from sklearn.metrics import classification_report, confusion_matrix  \n",
    "print(confusion_matrix(y_test,predicted))  \n",
    "print(classification_report(y_test,predicted))"
   ]
  },
  {
   "cell_type": "markdown",
   "metadata": {},
   "source": [
    "<font size=\"5\">*Pourquoi le noyau RBF surpasse-t-il généralement les noyaux linéaires ou polynomiaux?*</font>"
   ]
  },
  {
   "cell_type": "markdown",
   "metadata": {},
   "source": [
    "<font size=\"5\">* La règle de base est donc la suivante: utilisez des SVM linéaires (ou une régression logistique) pour les problèmes linéaires, et des noyaux non linéaires tels que le noyau à fonction de base radiale pour les problèmes non linéaires.\n",
    "\n",
    "La région de décision SVM du noyau RBF est également une région de décision linéaire. En réalité, le noyau SVM du noyau RBF crée des combinaisons non linéaires de vos fonctions pour élever vos échantillons dans un espace de fonctions de plus grande dimension dans lequel vous pouvez utiliser une limite de décision linéaire pour séparer vos classes:*</font>"
   ]
  },
  {
   "cell_type": "markdown",
   "metadata": {},
   "source": [
    " <font size=\"5\">*Selon la CPA nous voyant bien que le problème est non linéaire et que la séparation se fera avec une fonction polynomiale ou Rbf*</font>"
   ]
  },
  {
   "cell_type": "markdown",
   "metadata": {},
   "source": [
    "<font size=\"5\">*On ne se  soucierait pas trop du noyau polynomial. En pratique, il est moins utile pour des raisons de performances liées à l’efficacité (calcul et prédictives).\n",
    "nous pensons que les bonnes raisons d’utiliser le noyau RBF sont qu’elles fonctionnent bien et qu’elles sont relativement faciles à calibrer, contrairement aux autres noyaux.\n",
    "Le noyau polynomial a trois paramètres (décalage, mise à l'échelle, degré). Le noyau RBF a un paramètre*</font>"
   ]
  },
  {
   "cell_type": "markdown",
   "metadata": {},
   "source": [
    "<font size=\"5\">*Remarque : Cela ne signifie pas que RBF sera meixu dans tous les cas nous soulignons juste une des raison qui font que RBF marche mieux dans notre cas*</font>"
   ]
  },
  {
   "cell_type": "markdown",
   "metadata": {},
   "source": [
    "<font size=\"5\">*Paramétre C :*</font>"
   ]
  },
  {
   "cell_type": "markdown",
   "metadata": {},
   "source": [
    "<font size=\"5\">*Le paramètre C indique à l'optimisation SVM à quel point vous voulez éviter de classer chaque exemple d'apprentissage de manière erronée. Pour les grandes valeurs de C, l'optimisation choisira un hyperplan à plus faible marge si cet hyperplan réussit mieux à classer correctement tous les points d'apprentissage. Inversement, une très petite valeur de C obligera l'optimiseur à rechercher un hyperplan de séparation à marge plus grande, même si cet hyperplan classe de manière erronée un plus grand nombre de points. Pour de très petites valeurs de C, vous devriez obtenir des exemples mal classés, souvent même si vos données d'entraînement sont séparables linéairement.*</font>"
   ]
  },
  {
   "cell_type": "markdown",
   "metadata": {},
   "source": [
    "![title](c.jpg)"
   ]
  },
  {
   "cell_type": "markdown",
   "metadata": {},
   "source": [
    "<font size=\"5\">*De manière générale il n'y a pas de réponse miracle tout dépend de la dataset le mieux et d'essayer différentes valeurs et voit ce que ça donne*</font>"
   ]
  },
  {
   "cell_type": "code",
   "execution_count": 13,
   "metadata": {},
   "outputs": [
    {
     "name": "stdout",
     "output_type": "stream",
     "text": [
      "0.8709\n",
      "[[815   0   9  64   0   4  94   0  14   0]\n",
      " [  6 952  12  23   0   1   6   0   0   0]\n",
      " [ 11   0 724  12 146   0  96   0  11   0]\n",
      " [ 25   7   7 909  20   0  30   0   2   0]\n",
      " [  1   0  62  41 804   0  88   0   4   0]\n",
      " [  1   0   0   1   0 916   1  50   4  27]\n",
      " [218   0  93  42  70   0 563   0  14   0]\n",
      " [  0   0   0   0   0  37   0 882   0  81]\n",
      " [  1   0   4   4   2  10  22   2 952   3]\n",
      " [  0   0   0   0   0  15   0  44   0 941]]\n",
      "              precision    recall  f1-score   support\n",
      "\n",
      "           0       0.76      0.81      0.78      1000\n",
      "           1       0.99      0.95      0.97      1000\n",
      "           2       0.79      0.72      0.76      1000\n",
      "           3       0.83      0.91      0.87      1000\n",
      "           4       0.77      0.80      0.79      1000\n",
      "           5       0.93      0.92      0.92      1000\n",
      "           6       0.63      0.56      0.59      1000\n",
      "           7       0.90      0.88      0.89      1000\n",
      "           8       0.95      0.95      0.95      1000\n",
      "           9       0.89      0.94      0.92      1000\n",
      "\n",
      "   micro avg       0.85      0.85      0.85     10000\n",
      "   macro avg       0.84      0.85      0.84     10000\n",
      "weighted avg       0.84      0.85      0.84     10000\n",
      "\n"
     ]
    }
   ],
   "source": [
    "#Import Library\n",
    "from sklearn import svm\n",
    "#Assumed you have, X (predictor) and Y (target) for training data set and x_test(predictor) of test_dataset\n",
    "# Create SVM classification object \n",
    "model = svm.SVC(kernel='rbf', C=0.5,gamma='scale') \n",
    "# there is various option associated with it, like changing kernel, gamma and C value. Will discuss more # about it in next section.Train the model using the training sets and check score\n",
    "model.fit(x_train, y_train)\n",
    "print(model.score(x_train, y_train))\n",
    "#Predict Output\n",
    "predicted= model.predict(x_test)\n",
    "from sklearn.metrics import classification_report, confusion_matrix  \n",
    "print(confusion_matrix(y_test,predicted))  \n",
    "print(classification_report(y_test,predicted))"
   ]
  },
  {
   "cell_type": "code",
   "execution_count": null,
   "metadata": {},
   "outputs": [],
   "source": []
  },
  {
   "cell_type": "code",
   "execution_count": 14,
   "metadata": {},
   "outputs": [
    {
     "name": "stdout",
     "output_type": "stream",
     "text": [
      "0.9289\n",
      "[[830   0   8  40   1   2 105   0  14   0]\n",
      " [  5 971   3  16   0   1   4   0   0   0]\n",
      " [ 15   0 783  12 107   0  79   0   4   0]\n",
      " [ 29   7  11 907  23   0  20   0   3   0]\n",
      " [  1   0  64  33 838   0  61   0   3   0]\n",
      " [  1   0   0   1   0 923   1  50   4  20]\n",
      " [175   1  87  31  70   0 623   0  13   0]\n",
      " [  0   0   0   0   0  29   0 917   0  54]\n",
      " [  4   0   3   4   1   3  14   4 965   2]\n",
      " [  0   0   0   0   0  14   0  40   0 946]]\n",
      "              precision    recall  f1-score   support\n",
      "\n",
      "           0       0.78      0.83      0.81      1000\n",
      "           1       0.99      0.97      0.98      1000\n",
      "           2       0.82      0.78      0.80      1000\n",
      "           3       0.87      0.91      0.89      1000\n",
      "           4       0.81      0.84      0.82      1000\n",
      "           5       0.95      0.92      0.94      1000\n",
      "           6       0.69      0.62      0.65      1000\n",
      "           7       0.91      0.92      0.91      1000\n",
      "           8       0.96      0.96      0.96      1000\n",
      "           9       0.93      0.95      0.94      1000\n",
      "\n",
      "   micro avg       0.87      0.87      0.87     10000\n",
      "   macro avg       0.87      0.87      0.87     10000\n",
      "weighted avg       0.87      0.87      0.87     10000\n",
      "\n"
     ]
    }
   ],
   "source": [
    "#Import Library\n",
    "from sklearn import svm\n",
    "#Assumed you have, X (predictor) and Y (target) for training data set and x_test(predictor) of test_dataset\n",
    "# Create SVM classification object \n",
    "model = svm.SVC(kernel='rbf', C=2,gamma='scale') \n",
    "# there is various option associated with it, like changing kernel, gamma and C value. Will discuss more # about it in next section.Train the model using the training sets and check score\n",
    "model.fit(x_train, y_train)\n",
    "print(model.score(x_train, y_train))\n",
    "#Predict Output\n",
    "predicted= model.predict(x_test)\n",
    "from sklearn.metrics import classification_report, confusion_matrix  \n",
    "print(confusion_matrix(y_test,predicted))  \n",
    "print(classification_report(y_test,predicted))"
   ]
  },
  {
   "cell_type": "code",
   "execution_count": 18,
   "metadata": {},
   "outputs": [
    {
     "name": "stdout",
     "output_type": "stream",
     "text": [
      "0.1037\n",
      "[[   0    0    0    0    0    0    0 1000    0    0]\n",
      " [   0    0    0    0    0    0    0 1000    0    0]\n",
      " [   0    0    0    0    0    0    0 1000    0    0]\n",
      " [   0    0    0    0    0    0    0 1000    0    0]\n",
      " [   0    0    0    0    0    0    0 1000    0    0]\n",
      " [   0    0    0    0    0    0    0 1000    0    0]\n",
      " [   0    0    0    0    0    0    0 1000    0    0]\n",
      " [   0    0    0    0    0    0    0 1000    0    0]\n",
      " [   0    0    0    0    0    0    0 1000    0    0]\n",
      " [   0    0    0    0    0    0    0 1000    0    0]]\n",
      "              precision    recall  f1-score   support\n",
      "\n",
      "           0       0.00      0.00      0.00      1000\n",
      "           1       0.00      0.00      0.00      1000\n",
      "           2       0.00      0.00      0.00      1000\n",
      "           3       0.00      0.00      0.00      1000\n",
      "           4       0.00      0.00      0.00      1000\n",
      "           5       0.00      0.00      0.00      1000\n",
      "           6       0.00      0.00      0.00      1000\n",
      "           7       0.10      1.00      0.18      1000\n",
      "           8       0.00      0.00      0.00      1000\n",
      "           9       0.00      0.00      0.00      1000\n",
      "\n",
      "   micro avg       0.10      0.10      0.10     10000\n",
      "   macro avg       0.01      0.10      0.02     10000\n",
      "weighted avg       0.01      0.10      0.02     10000\n",
      "\n"
     ]
    },
    {
     "name": "stderr",
     "output_type": "stream",
     "text": [
      "C:\\Users\\Nazim\\Anaconda3\\envs\\myenv\\lib\\site-packages\\sklearn\\metrics\\classification.py:1143: UndefinedMetricWarning: Precision and F-score are ill-defined and being set to 0.0 in labels with no predicted samples.\n",
      "  'precision', 'predicted', average, warn_for)\n"
     ]
    }
   ],
   "source": [
    "#Import Library\n",
    "from sklearn import svm\n",
    "#Assumed you have, X (predictor) and Y (target) for training data set and x_test(predictor) of test_dataset\n",
    "# Create SVM classification object \n",
    "model = svm.SVC(kernel='rbf', C=0.001,gamma='scale') \n",
    "# there is various option associated with it, like changing kernel, gamma and C value. Will discuss more # about it in next section.Train the model using the training sets and check score\n",
    "model.fit(x_train, y_train)\n",
    "print(model.score(x_train, y_train))\n",
    "#Predict Output\n",
    "predicted= model.predict(x_test)\n",
    "from sklearn.metrics import classification_report, confusion_matrix  \n",
    "print(confusion_matrix(y_test,predicted))  \n",
    "print(classification_report(y_test,predicted))"
   ]
  },
  {
   "cell_type": "code",
   "execution_count": 19,
   "metadata": {},
   "outputs": [
    {
     "name": "stdout",
     "output_type": "stream",
     "text": [
      "0.9672\n",
      "[[831   1  10  31   0   2 111   0  14   0]\n",
      " [  4 974   3  14   0   1   4   0   0   0]\n",
      " [ 18   2 791  14  90   0  83   0   2   0]\n",
      " [ 32   9  12 904  25   0  16   0   2   0]\n",
      " [  1   0  67  31 836   0  63   0   2   0]\n",
      " [  0   0   0   1   0 927   1  51   3  17]\n",
      " [161   0  83  25  72   0 648   0  11   0]\n",
      " [  0   0   0   0   0  17   0 940   0  43]\n",
      " [  4   0   5   4   1   4  11   4 966   1]\n",
      " [  0   0   0   0   0   9   0  41   0 950]]\n",
      "              precision    recall  f1-score   support\n",
      "\n",
      "           0       0.79      0.83      0.81      1000\n",
      "           1       0.99      0.97      0.98      1000\n",
      "           2       0.81      0.79      0.80      1000\n",
      "           3       0.88      0.90      0.89      1000\n",
      "           4       0.82      0.84      0.83      1000\n",
      "           5       0.97      0.93      0.95      1000\n",
      "           6       0.69      0.65      0.67      1000\n",
      "           7       0.91      0.94      0.92      1000\n",
      "           8       0.97      0.97      0.97      1000\n",
      "           9       0.94      0.95      0.94      1000\n",
      "\n",
      "   micro avg       0.88      0.88      0.88     10000\n",
      "   macro avg       0.88      0.88      0.88     10000\n",
      "weighted avg       0.88      0.88      0.88     10000\n",
      "\n"
     ]
    }
   ],
   "source": [
    "#Import Library\n",
    "from sklearn import svm\n",
    "#Assumed you have, X (predictor) and Y (target) for training data set and x_test(predictor) of test_dataset\n",
    "# Create SVM classification object \n",
    "model = svm.SVC(kernel='rbf', C=5,gamma='scale') \n",
    "# there is various option associated with it, like changing kernel, gamma and C value. Will discuss more # about it in next section.Train the model using the training sets and check score\n",
    "model.fit(x_train, y_train)\n",
    "print(model.score(x_train, y_train))\n",
    "#Predict Output\n",
    "predicted= model.predict(x_test)\n",
    "from sklearn.metrics import classification_report, confusion_matrix  \n",
    "print(confusion_matrix(y_test,predicted))  \n",
    "print(classification_report(y_test,predicted))"
   ]
  },
  {
   "cell_type": "code",
   "execution_count": 22,
   "metadata": {},
   "outputs": [
    {
     "name": "stdout",
     "output_type": "stream",
     "text": [
      "0.983\n",
      "[[827   1  11  29   1   2 115   0  14   0]\n",
      " [  4 976   1  14   1   0   4   0   0   0]\n",
      " [ 22   3 791  13  89   0  79   0   3   0]\n",
      " [ 35  10  12 890  32   0  18   0   3   0]\n",
      " [  1   0  72  30 835   0  60   0   2   0]\n",
      " [  0   0   0   1   0 928   1  48   3  19]\n",
      " [160   0  88  25  64   0 653   0  10   0]\n",
      " [  0   0   0   0   0  20   0 938   0  42]\n",
      " [  7   0   5   4   1   4  11   4 963   1]\n",
      " [  1   0   0   0   0   9   0  35   0 955]]\n",
      "              precision    recall  f1-score   support\n",
      "\n",
      "           0       0.78      0.83      0.80      1000\n",
      "           1       0.99      0.98      0.98      1000\n",
      "           2       0.81      0.79      0.80      1000\n",
      "           3       0.88      0.89      0.89      1000\n",
      "           4       0.82      0.83      0.83      1000\n",
      "           5       0.96      0.93      0.95      1000\n",
      "           6       0.69      0.65      0.67      1000\n",
      "           7       0.92      0.94      0.93      1000\n",
      "           8       0.96      0.96      0.96      1000\n",
      "           9       0.94      0.95      0.95      1000\n",
      "\n",
      "   micro avg       0.88      0.88      0.88     10000\n",
      "   macro avg       0.88      0.88      0.88     10000\n",
      "weighted avg       0.88      0.88      0.88     10000\n",
      "\n"
     ]
    }
   ],
   "source": [
    "#Import Library\n",
    "from sklearn import svm\n",
    "#Assumed you have, X (predictor) and Y (target) for training data set and x_test(predictor) of test_dataset\n",
    "# Create SVM classification object \n",
    "model = svm.SVC(kernel='rbf', C=8.5,gamma='scale') \n",
    "# there is various option associated with it, like changing kernel, gamma and C value. Will discuss more # about it in next section.Train the model using the training sets and check score\n",
    "model.fit(x_train, y_train)\n",
    "print(model.score(x_train, y_train))\n",
    "#Predict Output\n",
    "predicted= model.predict(x_test)\n",
    "from sklearn.metrics import classification_report, confusion_matrix  \n",
    "print(confusion_matrix(y_test,predicted))  \n",
    "print(classification_report(y_test,predicted))"
   ]
  },
  {
   "cell_type": "code",
   "execution_count": 23,
   "metadata": {},
   "outputs": [
    {
     "name": "stdout",
     "output_type": "stream",
     "text": [
      "0.955\n",
      "[[831   0   9  33   0   2 111   0  14   0]\n",
      " [  5 973   3  14   0   1   4   0   0   0]\n",
      " [ 17   0 788  13  99   0  80   0   3   0]\n",
      " [ 29   9  10 909  23   0  17   0   3   0]\n",
      " [  1   0  66  34 837   0  60   0   2   0]\n",
      " [  0   0   0   1   0 928   1  50   4  16]\n",
      " [161   1  86  28  70   0 643   0  11   0]\n",
      " [  0   0   0   0   0  20   0 934   0  46]\n",
      " [  4   0   4   4   1   3  12   4 967   1]\n",
      " [  0   0   0   0   0  11   0  39   0 950]]\n",
      "              precision    recall  f1-score   support\n",
      "\n",
      "           0       0.79      0.83      0.81      1000\n",
      "           1       0.99      0.97      0.98      1000\n",
      "           2       0.82      0.79      0.80      1000\n",
      "           3       0.88      0.91      0.89      1000\n",
      "           4       0.81      0.84      0.82      1000\n",
      "           5       0.96      0.93      0.94      1000\n",
      "           6       0.69      0.64      0.67      1000\n",
      "           7       0.91      0.93      0.92      1000\n",
      "           8       0.96      0.97      0.97      1000\n",
      "           9       0.94      0.95      0.94      1000\n",
      "\n",
      "   micro avg       0.88      0.88      0.88     10000\n",
      "   macro avg       0.88      0.88      0.88     10000\n",
      "weighted avg       0.88      0.88      0.88     10000\n",
      "\n"
     ]
    }
   ],
   "source": [
    "#Import Library\n",
    "from sklearn import svm\n",
    "#Assumed you have, X (predictor) and Y (target) for training data set and x_test(predictor) of test_dataset\n",
    "# Create SVM classification object \n",
    "model = svm.SVC(kernel='rbf', C=3,gamma='scale') \n",
    "# there is various option associated with it, like changing kernel, gamma and C value. Will discuss more # about it in next section.Train the model using the training sets and check score\n",
    "model.fit(x_train, y_train)\n",
    "print(model.score(x_train, y_train))\n",
    "#Predict Output\n",
    "predicted= model.predict(x_test)\n",
    "from sklearn.metrics import classification_report, confusion_matrix  \n",
    "print(confusion_matrix(y_test,predicted))  \n",
    "print(classification_report(y_test,predicted))"
   ]
  },
  {
   "cell_type": "markdown",
   "metadata": {},
   "source": [
    "<font size=\"5\">*On peut conclure à partire de ces test que le C ne doit être ni trop grand (plus de 5 on ne gagne plus rien en terme d'accuracy) ni trop petit (0.001 donne des résultats trés mauvais)*</font>"
   ]
  },
  {
   "cell_type": "markdown",
   "metadata": {},
   "source": [
    "<font size=\"5\">*Valeur idéal est 3 vue que au delà l'accuracy n'augmente pas*</font>"
   ]
  },
  {
   "cell_type": "markdown",
   "metadata": {},
   "source": [
    "<font size=\"5\">*Pour finir on aimerais citer un papier qui s'intitule \"An Automatic Method for Selecting the Parameter of the Normalized Kernel Function to Support Vector Machines\"*</font>"
   ]
  },
  {
   "cell_type": "markdown",
   "metadata": {},
   "source": [
    "<font size=\"5\">*Comme l'article l'indique l'équipe de recherche a mis au point une méthode pour trouver le C*</font>"
   ]
  },
  {
   "cell_type": "markdown",
   "metadata": {},
   "source": [
    "<font size=\"5\">*Le principe est le suivant*</font>"
   ]
  },
  {
   "cell_type": "markdown",
   "metadata": {},
   "source": [
    "<font size=\"5\">*Les valeurs de la fonction du kernel RBF devraient être proche de 1 si l'échantillon appartient à la même classe*</font>"
   ]
  },
  {
   "cell_type": "markdown",
   "metadata": {},
   "source": [
    "![title](met1.png)"
   ]
  },
  {
   "cell_type": "markdown",
   "metadata": {},
   "source": [
    "<font size=\"5\">*Les valeurs de la fonction du kernel RBF devraient être proche de 0 si l'échantillon n'appartient pas à la même classe*</font>"
   ]
  },
  {
   "cell_type": "markdown",
   "metadata": {},
   "source": [
    "![title](met2.png\")"
   ]
  },
  {
   "cell_type": "markdown",
   "metadata": {},
   "source": [
    "<font size=\"5\">*ils ont prit en compte 2 critére*</font>"
   ]
  },
  {
   "cell_type": "markdown",
   "metadata": {},
   "source": [
    "<font size=\"5\">*moyenne des valeurs appliquées par la fonction normale du noyau sur les échantillons de la même classe:*</font>"
   ]
  },
  {
   "cell_type": "markdown",
   "metadata": {},
   "source": [
    "![title](met4.png)"
   ]
  },
  {
   "cell_type": "markdown",
   "metadata": {},
   "source": [
    "<font size=\"5\">*moyenne des valeurs appliquées par la fonction du noyau normalisée sur les échantillons des différentes classes*</font>"
   ]
  },
  {
   "cell_type": "markdown",
   "metadata": {},
   "source": [
    "![title](met3.png)"
   ]
  },
  {
   "cell_type": "code",
   "execution_count": 33,
   "metadata": {},
   "outputs": [],
   "source": [
    "def make_meshgrid(x, y, h=.02):\n",
    "    \"\"\"Create a mesh of points to plot in\n",
    "\n",
    "    Parameters\n",
    "    ----------\n",
    "    x: data to base x-axis meshgrid on\n",
    "    y: data to base y-axis meshgrid on\n",
    "    h: stepsize for meshgrid, optional\n",
    "\n",
    "    Returns\n",
    "    -------\n",
    "    xx, yy : ndarray\n",
    "    \"\"\"\n",
    "    x_min, x_max = x.min() - 1, x.max() + 1\n",
    "    y_min, y_max = y.min() - 1, y.max() + 1\n",
    "    xx, yy = np.meshgrid(np.arange(x_min, x_max, h),\n",
    "                         np.arange(y_min, y_max, h))\n",
    "    return xx, yy\n",
    "\n",
    "\n",
    "def plot_contours(ax, clf, xx, yy, **params):\n",
    "    \"\"\"Plot the decision boundaries for a classifier.\n",
    "\n",
    "    Parameters\n",
    "    ----------\n",
    "    ax: matplotlib axes object\n",
    "    clf: a classifier\n",
    "    xx: meshgrid ndarray\n",
    "    yy: meshgrid ndarray\n",
    "    params: dictionary of params to pass to contourf, optional\n",
    "    \"\"\"\n",
    "    Z = clf.predict(np.c_[xx.ravel(), yy.ravel()])\n",
    "    Z = Z.reshape(xx.shape)\n",
    "    out = ax.contourf(xx, yy, Z, **params)\n",
    "    return out"
   ]
  },
  {
   "cell_type": "code",
   "execution_count": 23,
   "metadata": {},
   "outputs": [
    {
     "name": "stdout",
     "output_type": "stream",
     "text": [
      "0.9479\n",
      "[[830   0   9  34   0   2 112   0  13   0]\n",
      " [  5 972   3  15   0   1   4   0   0   0]\n",
      " [ 18   0 790  13  97   0  79   0   3   0]\n",
      " [ 29   9  11 906  23   0  19   0   3   0]\n",
      " [  1   0  66  33 839   0  59   0   2   0]\n",
      " [  1   0   0   1   0 927   1  50   4  16]\n",
      " [164   1  86  28  71   0 638   0  12   0]\n",
      " [  0   0   0   0   0  22   0 930   0  48]\n",
      " [  4   0   3   4   1   3  13   3 967   2]\n",
      " [  0   0   0   0   0  12   0  39   0 949]]\n",
      "              precision    recall  f1-score   support\n",
      "\n",
      "           0       0.79      0.83      0.81      1000\n",
      "           1       0.99      0.97      0.98      1000\n",
      "           2       0.82      0.79      0.80      1000\n",
      "           3       0.88      0.91      0.89      1000\n",
      "           4       0.81      0.84      0.83      1000\n",
      "           5       0.96      0.93      0.94      1000\n",
      "           6       0.69      0.64      0.66      1000\n",
      "           7       0.91      0.93      0.92      1000\n",
      "           8       0.96      0.97      0.97      1000\n",
      "           9       0.93      0.95      0.94      1000\n",
      "\n",
      "   micro avg       0.87      0.87      0.87     10000\n",
      "   macro avg       0.87      0.87      0.87     10000\n",
      "weighted avg       0.87      0.87      0.87     10000\n",
      "\n"
     ]
    }
   ],
   "source": [
    "#Import Library\n",
    "from sklearn import svm\n",
    "#Assumed you have, X (predictor) and Y (target) for training data set and x_test(predictor) of test_dataset\n",
    "# Create SVM classification object \n",
    "model = svm.SVC(kernel='rbf', C=3,gamma='scale') \n",
    "# there is various option associated with it, like changing kernel, gamma and C value. Will discuss more # about it in next section.Train the model using the training sets and check score\n",
    "model.fit(x_train, y_train)\n",
    "print(model.score(x_train, y_train))\n",
    "#Predict Output\n",
    "predicted= model.predict(x_test)\n",
    "from sklearn.metrics import classification_report, confusion_matrix  \n",
    "print(confusion_matrix(y_test,predicted))  \n",
    "print(classification_report(y_test,predicted))"
   ]
  },
  {
   "cell_type": "code",
   "execution_count": 136,
   "metadata": {},
   "outputs": [],
   "source": [
    "X=mnist_train_bis.values\n",
    "X1=mnist_test_bis.values\n",
    "y=y_train.values"
   ]
  },
  {
   "cell_type": "code",
   "execution_count": 131,
   "metadata": {},
   "outputs": [],
   "source": [
    "X= mnist_train_bis2[:, :2]\n"
   ]
  },
  {
   "cell_type": "code",
   "execution_count": 44,
   "metadata": {},
   "outputs": [],
   "source": [
    "def plot_svc_decision_function(model, ax=None, plot_support=True):\n",
    "    \"\"\"Plot the decision function for a 2D SVC\"\"\"\n",
    "    if ax is None:\n",
    "        ax = plt.gca()\n",
    "    xlim = ax.get_xlim()\n",
    "    ylim = ax.get_ylim()\n",
    "    \n",
    "    # create grid to evaluate model\n",
    "    x = np.linspace(xlim[0], xlim[1], 30)\n",
    "    y = np.linspace(ylim[0], ylim[1], 30)\n",
    "    Y, X = np.meshgrid(y, x)\n",
    "    xy = np.vstack([X.ravel(), Y.ravel()]).T\n",
    "    P = model.decision_function(xy).reshape(X.shape)\n",
    "    \n",
    "    # plot decision boundary and margins\n",
    "    ax.contour(X, Y, P, colors='k',\n",
    "               levels=[-1, 0, 1], alpha=0.5,\n",
    "               linestyles=['--', '-', '--'])\n",
    "    \n",
    "    # plot support vectors\n",
    "    if plot_support:\n",
    "        ax.scatter(model.support_vectors_[:, 0],\n",
    "                   model.support_vectors_[:, 1],\n",
    "                   s=300, linewidth=1, facecolors='none');\n",
    "    ax.set_xlim(xlim)\n",
    "    ax.set_ylim(ylim)"
   ]
  },
  {
   "cell_type": "markdown",
   "metadata": {},
   "source": [
    "  <font size=\"5\">*Visualization de quelques points *</font>"
   ]
  },
  {
   "cell_type": "code",
   "execution_count": 146,
   "metadata": {},
   "outputs": [
    {
     "data": {
      "image/png": "[encoded data removed]",
      "text/plain": [
       "<Figure size 432x288 with 1 Axes>"
      ]
     },
     "metadata": {
      "needs_background": "light"
     },
     "output_type": "display_data"
    }
   ],
   "source": [
    "for i in range(0,7):\n",
    "        plt.scatter(X[:, i], X[:, i+1], c=y, s=50, cmap='autumn')\n",
    "plot_svc_decision_function(model);"
   ]
  },
  {
   "cell_type": "markdown",
   "metadata": {},
   "source": [
    "  <font size=\"5\">*Passons aux données encodées*</font>"
   ]
  },
  {
   "cell_type": "code",
   "execution_count": 13,
   "metadata": {},
   "outputs": [
    {
     "name": "stderr",
     "output_type": "stream",
     "text": [
      "Using TensorFlow backend.\n"
     ]
    }
   ],
   "source": [
    "from data import get_encoded_data"
   ]
  },
  {
   "cell_type": "code",
   "execution_count": 50,
   "metadata": {},
   "outputs": [
    {
     "name": "stderr",
     "output_type": "stream",
     "text": [
      "C:\\Users\\Nazim\\Anaconda3\\envs\\myenv\\lib\\site-packages\\keras\\engine\\saving.py:292: UserWarning: No training configuration found in save file: the model was *not* compiled. Compile it manually.\n",
      "  warnings.warn('No training configuration found in save file: '\n"
     ]
    }
   ],
   "source": [
    "(x_train_encoded, y_train), (x_test_encoded, y_test) = get_encoded_data()"
   ]
  },
  {
   "cell_type": "code",
   "execution_count": 51,
   "metadata": {},
   "outputs": [],
   "source": [
    "x_train_encoded=x_train_encoded[:10000]\n",
    "y_train=y_train[:10000]"
   ]
  },
  {
   "cell_type": "markdown",
   "metadata": {},
   "source": [
    " <font size=\"+2\">*on utilise les 4 kernel avec un C=1 et enfin on prend le meilleur kernel(rbf) avec le meilleur C, ce qui nous donne un total de 5 tests à réaliser*</font>"
   ]
  },
  {
   "cell_type": "code",
   "execution_count": 26,
   "metadata": {},
   "outputs": [
    {
     "name": "stdout",
     "output_type": "stream",
     "text": [
      "0.86085\n",
      "[[824   4   9  50   5   0  96   0  12   0]\n",
      " [  5 953   7  26   4   0   4   0   1   0]\n",
      " [ 11   2 750  15 126   0  95   0   1   0]\n",
      " [ 37   8   8 874  30   0  40   0   3   0]\n",
      " [  0   1 111  39 765   0  82   0   2   0]\n",
      " [  0   0   0   1   0 916   0  48   6  29]\n",
      " [180   3 125  32 115   0 525   0  20   0]\n",
      " [  0   0   0   0   0  24   0 928   0  48]\n",
      " [  1   1   0   6   4   3   8   2 974   1]\n",
      " [  0   0   0   0   0  14   0  49   1 936]]\n",
      "              precision    recall  f1-score   support\n",
      "\n",
      "           0       0.78      0.82      0.80      1000\n",
      "           1       0.98      0.95      0.97      1000\n",
      "           2       0.74      0.75      0.75      1000\n",
      "           3       0.84      0.87      0.86      1000\n",
      "           4       0.73      0.77      0.75      1000\n",
      "           5       0.96      0.92      0.94      1000\n",
      "           6       0.62      0.53      0.57      1000\n",
      "           7       0.90      0.93      0.92      1000\n",
      "           8       0.95      0.97      0.96      1000\n",
      "           9       0.92      0.94      0.93      1000\n",
      "\n",
      "   micro avg       0.84      0.84      0.84     10000\n",
      "   macro avg       0.84      0.84      0.84     10000\n",
      "weighted avg       0.84      0.84      0.84     10000\n",
      "\n"
     ]
    }
   ],
   "source": [
    "#Import Library\n",
    "from sklearn import svm\n",
    "#Assumed you have, X (predictor) and Y (target) for training data set and x_test(predictor) of test_dataset\n",
    "# Create SVM classification object \n",
    "model = svm.SVC(kernel='rbf', C=3,gamma='scale') \n",
    "# there is various option associated with it, like changing kernel, gamma and C value. Will discuss more # about it in next section.Train the model using the training sets and check score\n",
    "model.fit(x_train_encoded, y_train)\n",
    "print(model.score(x_train_encoded, y_train))\n",
    "#Predict Output\n",
    "predicted= model.predict(x_test_encoded)\n",
    "from sklearn.metrics import classification_report, confusion_matrix  \n",
    "print(confusion_matrix(y_test,predicted))  \n",
    "print(classification_report(y_test,predicted))"
   ]
  },
  {
   "cell_type": "code",
   "execution_count": 13,
   "metadata": {},
   "outputs": [
    {
     "name": "stdout",
     "output_type": "stream",
     "text": [
      "0.8226\n",
      "[[762   2  17  33   1   1 175   0   9   0]\n",
      " [ 10 911  14  26   2   0  37   0   0   0]\n",
      " [  8   0 736   9  71   0 168   0   8   0]\n",
      " [ 38   9  13 787  29   0 122   0   1   1]\n",
      " [  0   2 218  38 562   0 176   0   4   0]\n",
      " [  1   0   1   0   0 886   9  58  13  32]\n",
      " [152   2 127  20  70   0 613   0  16   0]\n",
      " [  0   0   0   0   0  20   6 929   4  41]\n",
      " [  2   1   3   6   4   1  94   4 884   1]\n",
      " [  0   0   0   0   0  20   9  65   5 901]]\n",
      "              precision    recall  f1-score   support\n",
      "\n",
      "           0       0.78      0.76      0.77      1000\n",
      "           1       0.98      0.91      0.95      1000\n",
      "           2       0.65      0.74      0.69      1000\n",
      "           3       0.86      0.79      0.82      1000\n",
      "           4       0.76      0.56      0.65      1000\n",
      "           5       0.95      0.89      0.92      1000\n",
      "           6       0.44      0.61      0.51      1000\n",
      "           7       0.88      0.93      0.90      1000\n",
      "           8       0.94      0.88      0.91      1000\n",
      "           9       0.92      0.90      0.91      1000\n",
      "\n",
      "   micro avg       0.80      0.80      0.80     10000\n",
      "   macro avg       0.82      0.80      0.80     10000\n",
      "weighted avg       0.82      0.80      0.80     10000\n",
      "\n"
     ]
    }
   ],
   "source": [
    "#Import Library\n",
    "from sklearn import svm\n",
    "#Assumed you have, X (predictor) and Y (target) for training data set and x_test(predictor) of test_dataset\n",
    "# Create SVM classification object \n",
    "model = svm.SVC(kernel='poly', C=1,gamma='scale') \n",
    "# there is various option associated with it, like changing kernel, gamma and C value. Will discuss more # about it in next section.Train the model using the training sets and check score\n",
    "model.fit(x_train_encoded, y_train)\n",
    "print(model.score(x_train_encoded, y_train))\n",
    "#Predict Output\n",
    "predicted= model.predict(x_test_encoded)\n",
    "from sklearn.metrics import classification_report, confusion_matrix  \n",
    "print(confusion_matrix(y_test,predicted))  \n",
    "print(classification_report(y_test,predicted))"
   ]
  },
  {
   "cell_type": "code",
   "execution_count": 27,
   "metadata": {},
   "outputs": [
    {
     "name": "stdout",
     "output_type": "stream",
     "text": [
      "0.8347833333333333\n",
      "[[835   4  10  54   6   1  75   0  15   0]\n",
      " [  4 950   8  28   3   0   6   0   1   0]\n",
      " [  9   1 714  16 138   0 118   0   4   0]\n",
      " [ 42  12   7 864  31   0  40   0   4   0]\n",
      " [  0   2 135  45 717   0  98   0   3   0]\n",
      " [  0   0   0   1   0 907   0  53   6  33]\n",
      " [239   2 131  35 125   0 449   0  19   0]\n",
      " [  0   0   0   0   0  33   0 920   0  47]\n",
      " [  4   1   3   6   7   2  14   2 959   2]\n",
      " [  0   0   0   0   0  22   0  62   1 915]]\n",
      "              precision    recall  f1-score   support\n",
      "\n",
      "           0       0.74      0.83      0.78      1000\n",
      "           1       0.98      0.95      0.96      1000\n",
      "           2       0.71      0.71      0.71      1000\n",
      "           3       0.82      0.86      0.84      1000\n",
      "           4       0.70      0.72      0.71      1000\n",
      "           5       0.94      0.91      0.92      1000\n",
      "           6       0.56      0.45      0.50      1000\n",
      "           7       0.89      0.92      0.90      1000\n",
      "           8       0.95      0.96      0.95      1000\n",
      "           9       0.92      0.92      0.92      1000\n",
      "\n",
      "   micro avg       0.82      0.82      0.82     10000\n",
      "   macro avg       0.82      0.82      0.82     10000\n",
      "weighted avg       0.82      0.82      0.82     10000\n",
      "\n"
     ]
    }
   ],
   "source": [
    "#Import Library\n",
    "from sklearn import svm\n",
    "#Assumed you have, X (predictor) and Y (target) for training data set and x_test(predictor) of test_dataset\n",
    "# Create SVM classification object \n",
    "model = svm.SVC(kernel='linear', C=1,gamma='scale') \n",
    "# there is various option associated with it, like changing kernel, gamma and C value. Will discuss more # about it in next section.Train the model using the training sets and check score\n",
    "model.fit(x_train_encoded, y_train)\n",
    "print(model.score(x_train_encoded, y_train))\n",
    "#Predict Output\n",
    "predicted= model.predict(x_test_encoded)\n",
    "from sklearn.metrics import classification_report, confusion_matrix  \n",
    "print(confusion_matrix(y_test,predicted))  \n",
    "print(classification_report(y_test,predicted))"
   ]
  },
  {
   "cell_type": "code",
   "execution_count": 16,
   "metadata": {},
   "outputs": [
    {
     "name": "stdout",
     "output_type": "stream",
     "text": [
      "0.3286\n",
      "[[395  46   6  87  11 319 124   0  12   0]\n",
      " [ 74 590   5  32   4 288   4   0   3   0]\n",
      " [ 41  12 271   6 300 309  42   0  13   6]\n",
      " [ 69 389   1 240  10 269  13   0   5   4]\n",
      " [ 30  67 201  42 384 188   5   0  73  10]\n",
      " [  7 259   1   0   9 458 152  95  14   5]\n",
      " [120  39 135  40 156 402  65   0  30  13]\n",
      " [ 14  97   0   0   0 541   0 337   0  11]\n",
      " [  8  30   3   8  79 545  20  39 262   6]\n",
      " [  0  11   0   1  20 391  16 255  50 256]]\n",
      "              precision    recall  f1-score   support\n",
      "\n",
      "           0       0.52      0.40      0.45      1000\n",
      "           1       0.38      0.59      0.46      1000\n",
      "           2       0.43      0.27      0.33      1000\n",
      "           3       0.53      0.24      0.33      1000\n",
      "           4       0.39      0.38      0.39      1000\n",
      "           5       0.12      0.46      0.19      1000\n",
      "           6       0.15      0.07      0.09      1000\n",
      "           7       0.46      0.34      0.39      1000\n",
      "           8       0.57      0.26      0.36      1000\n",
      "           9       0.82      0.26      0.39      1000\n",
      "\n",
      "   micro avg       0.33      0.33      0.33     10000\n",
      "   macro avg       0.44      0.33      0.34     10000\n",
      "weighted avg       0.44      0.33      0.34     10000\n",
      "\n"
     ]
    }
   ],
   "source": [
    "#Import Library\n",
    "from sklearn import svm\n",
    "#Assumed you have, X (predictor) and Y (target) for training data set and x_test(predictor) of test_dataset\n",
    "# Create SVM classification object \n",
    "model = svm.SVC(kernel='sigmoid', C=1,gamma='scale') \n",
    "# there is various option associated with it, like changing kernel, gamma and C value. Will discuss more # about it in next section.Train the model using the training sets and check score\n",
    "model.fit(x_train_encoded, y_train)\n",
    "print(model.score(x_train_encoded, y_train))\n",
    "#Predict Output\n",
    "predicted= model.predict(x_test_encoded)\n",
    "from sklearn.metrics import classification_report, confusion_matrix  \n",
    "print(confusion_matrix(y_test,predicted))  \n",
    "print(classification_report(y_test,predicted))"
   ]
  },
  {
   "cell_type": "code",
   "execution_count": 25,
   "metadata": {},
   "outputs": [
    {
     "name": "stdout",
     "output_type": "stream",
     "text": [
      "0.8529\n",
      "[[824   3  15  52   3   1  91   0  11   0]\n",
      " [  7 951   7  26   4   0   4   0   1   0]\n",
      " [  9   2 757  15 121   0  94   0   2   0]\n",
      " [ 34   9   7 874  28   0  45   0   3   0]\n",
      " [  0   1 119  40 744   0  93   0   3   0]\n",
      " [  0   0   0   1   0 912   0  51   6  30]\n",
      " [195   4 129  33 114   0 507   0  18   0]\n",
      " [  0   0   0   0   0  25   0 928   0  47]\n",
      " [  0   0   1   6   4   2  12   4 970   1]\n",
      " [  0   0   0   0   0  17   0  54   1 928]]\n",
      "              precision    recall  f1-score   support\n",
      "\n",
      "           0       0.77      0.82      0.80      1000\n",
      "           1       0.98      0.95      0.97      1000\n",
      "           2       0.73      0.76      0.74      1000\n",
      "           3       0.83      0.87      0.85      1000\n",
      "           4       0.73      0.74      0.74      1000\n",
      "           5       0.95      0.91      0.93      1000\n",
      "           6       0.60      0.51      0.55      1000\n",
      "           7       0.89      0.93      0.91      1000\n",
      "           8       0.96      0.97      0.96      1000\n",
      "           9       0.92      0.93      0.93      1000\n",
      "\n",
      "   micro avg       0.84      0.84      0.84     10000\n",
      "   macro avg       0.84      0.84      0.84     10000\n",
      "weighted avg       0.84      0.84      0.84     10000\n",
      "\n"
     ]
    }
   ],
   "source": [
    "#Import Library\n",
    "from sklearn import svm\n",
    "#Assumed you have, X (predictor) and Y (target) for training data set and x_test(predictor) of test_dataset\n",
    "# Create SVM classification object \n",
    "model = svm.SVC(kernel='rbf', C=1,gamma='scale') \n",
    "# there is various option associated with it, like changing kernel, gamma and C value. Will discuss more # about it in next section.Train the model using the training sets and check score\n",
    "model.fit(x_train_encoded, y_train)\n",
    "print(model.score(x_train_encoded, y_train))\n",
    "#Predict Output\n",
    "predicted= model.predict(x_test_encoded)\n",
    "from sklearn.metrics import classification_report, confusion_matrix  \n",
    "print(confusion_matrix(y_test,predicted))  \n",
    "print(classification_report(y_test,predicted))"
   ]
  },
  {
   "cell_type": "markdown",
   "metadata": {},
   "source": [
    " <font size=\"5\">*Comparaison des méthodes et résultats*</font>"
   ]
  },
  {
   "cell_type": "markdown",
   "metadata": {},
   "source": [
    " <font size=\"+2\">*D'apés nos résusltats observé ici nous voyant que à chaque fois les données auto encoder donnés de moins bon résultats que les \n",
    "    données normal avec  de 3%  d'accuracy au moins pour la sigmoid 2% au moyenne pour les RBF et 2% aussi pour le kernel poly\n",
    "    on notera aussi une légere amélioration pour le cas du kernel linear mais celà reste marginal*</font>"
   ]
  },
  {
   "cell_type": "markdown",
   "metadata": {},
   "source": [
    " <font size=\"+2\">*Cette baisse d'accuracy pourrait être expliqué par tous simplement le fonctionnement d'un auto-encodé, on a la partie encoder dans lequel le modèle apprend à réduire les dimensions en entrée et à compresser les données en entrée en une représentation codée la partit decoder dans lequel le modèle apprend à reconstruire les données à partir de la représentation codée pour les rapprocher le plus possible de l'entrée d'origine et enfin reconstruction Loss C’est la méthode qui mesure le rendement du décodeur et la distance entre la sortie et l’entrée originale.\n",
    "le fait que les données decoder ne soient pas proches à 100% du dataset original, peut nous laisser penser à une perte d'information qui a pu faire baisse l'accuracy*</font>"
   ]
  },
  {
   "cell_type": "markdown",
   "metadata": {},
   "source": [
    "  <font size=\"+2\"> *La baisse de 1% à 3% montre que les données decoder sont très proches des originaux, ce qui montre la qualité de notre auto-encoder*</front>\n"
   ]
  },
  {
   "cell_type": "markdown",
   "metadata": {},
   "source": [
    " <font size=\"+2\">*Visualization des donnees encoder resultat différent du précedent avec plus de points printer*</font>"
   ]
  },
  {
   "cell_type": "code",
   "execution_count": 56,
   "metadata": {},
   "outputs": [
    {
     "data": {
      "image/png": "[encoded data removed]",
      "text/plain": [
       "<Figure size 432x288 with 1 Axes>"
      ]
     },
     "metadata": {
      "needs_background": "light"
     },
     "output_type": "display_data"
    }
   ],
   "source": [
    "for i in range(0,1):\n",
    "        plt.scatter(x_train_encoded[:, i], x_train_encoded[:, i+1], c=y, s=50, cmap='autumn')\n",
    "plot_svc_decision_function(model);"
   ]
  },
  {
   "cell_type": "code",
   "execution_count": null,
   "metadata": {},
   "outputs": [],
   "source": [
    "<font size=\"5\">**</front>"
   ]
  },
  {
   "cell_type": "markdown",
   "metadata": {},
   "source": [
    " <font size=\"5\">*LDA*</font>"
   ]
  },
  {
   "cell_type": "markdown",
   "metadata": {},
   "source": [
    "<font size=\"5\">*LDA formule des hypothèses simplificatrices sur vos données:*</front>"
   ]
  },
  {
   "cell_type": "markdown",
   "metadata": {},
   "source": [
    "<font size=\"5\">*Que vos données soient gaussiennes, que chaque variable ait la forme d’une courbe en cloche lorsqu’elle est tracée.*</front>"
   ]
  },
  {
   "cell_type": "markdown",
   "metadata": {},
   "source": [
    "<font size=\"5\">*Que chaque attribut ait la même variance, que les valeurs de chaque variable varient autour de la moyenne du même montant en moyenne.*</front>"
   ]
  },
  {
   "cell_type": "markdown",
   "metadata": {},
   "source": [
    "<font size=\"5\">*Avec ces hypothèses, le modèle LDA estime la moyenne et la variance à partir de vos données pour chaque classe. Il est facile d’y penser dans le cas univarié (variable d’entrée simple) avec deux classes.*</front>"
   ]
  },
  {
   "cell_type": "markdown",
   "metadata": {},
   "source": [
    "<font size=\"5\">*La valeur moyenne (mu) de chaque entrée (x) pour chaque classe (k) peut être estimée de manière normale en divisant la somme des valeurs par le nombre total de valeurs.\n",
    "\n",
    "muk = 1 / nk * somme (x)*</front>"
   ]
  },
  {
   "cell_type": "markdown",
   "metadata": {},
   "source": [
    "<font size=\"5\">*Où muk est la valeur moyenne de x pour la classe k, nk est le nombre d'instances de classe k. La variance est calculée pour toutes les classes comme la différence moyenne au carré de chaque valeur par rapport à la moyenne.\n",
    "sigma^2 = 1 / (n-K) * sum((x – mu)^2)*</front>"
   ]
  },
  {
   "cell_type": "markdown",
   "metadata": {},
   "source": [
    "<font size=\"5\">*Où sigma ^ 2 est la variance de toutes les entrées (x), n est le nombre d'instances, K est le nombre de classes et mu est la moyenne de l'entrée x.*</front>"
   ]
  },
  {
   "cell_type": "markdown",
   "metadata": {},
   "source": [
    "<font size=\"5\">*LDA fait des prévisions en estimant la probabilité qu’un nouvel ensemble d’entrées appartient à chaque classe. La classe qui obtient la probabilité la plus élevée est la classe de sortie et une prédiction est faite.*</front>"
   ]
  },
  {
   "cell_type": "markdown",
   "metadata": {},
   "source": [
    " <font size=\"+2\">*n_components : nombres de topics, égale a 10 ici*</font>"
   ]
  },
  {
   "cell_type": "code",
   "execution_count": 6,
   "metadata": {},
   "outputs": [],
   "source": [
    "mnist_train = pd.read_csv(\"D:/datascience/fashion-mnist_train.csv/fashion-mnist_train.csv\") \n",
    "mnist_test = pd.read_csv(\"D:/datascience/fashion-mnist_test.csv/fashion-mnist_test.csv\")  "
   ]
  },
  {
   "cell_type": "code",
   "execution_count": 7,
   "metadata": {},
   "outputs": [],
   "source": [
    "mnist_train_bis=mnist_train[:10000]\n",
    "mnist_test_bis=mnist_test[:100000]"
   ]
  },
  {
   "cell_type": "code",
   "execution_count": 8,
   "metadata": {},
   "outputs": [],
   "source": [
    "x_train = mnist_train_bis.drop('label', axis=1)  \n",
    "y_train=mnist_train_bis['label']"
   ]
  },
  {
   "cell_type": "code",
   "execution_count": 9,
   "metadata": {},
   "outputs": [],
   "source": [
    "x_test = mnist_test_bis.drop('label', axis=1)  \n",
    "y_test=mnist_test_bis['label']"
   ]
  },
  {
   "cell_type": "code",
   "execution_count": 10,
   "metadata": {},
   "outputs": [],
   "source": [
    "import numpy as np\n",
    "from sklearn.decomposition import LatentDirichletAllocation"
   ]
  },
  {
   "cell_type": "code",
   "execution_count": 11,
   "metadata": {},
   "outputs": [
    {
     "data": {
      "text/plain": [
       "LatentDirichletAllocation(batch_size=128, doc_topic_prior=None,\n",
       "             evaluate_every=-1, learning_decay=0.7,\n",
       "             learning_method='batch', learning_offset=10.0,\n",
       "             max_doc_update_iter=100, max_iter=10, mean_change_tol=0.001,\n",
       "             n_components=10, n_jobs=None, n_topics=None, perp_tol=0.1,\n",
       "             random_state=0, topic_word_prior=None,\n",
       "             total_samples=1000000.0, verbose=0)"
      ]
     },
     "execution_count": 11,
     "metadata": {},
     "output_type": "execute_result"
    }
   ],
   "source": [
    "lda = LatentDirichletAllocation(n_components=10, random_state=0)\n",
    "lda.fit(x_train) "
   ]
  },
  {
   "cell_type": "markdown",
   "metadata": {},
   "source": [
    "<font size=\"5\">*La perplexité est une mesure de la pertinence d'un modèle de probabilité pour un nouvel ensemble de données. Dans sickit learn, il est simple de s’adapter à la fonction perplexité, qui prend comme argument un modèle de sujet précédemment adapté et un nouvel ensemble de données, et renvoie un nombre unique. Le plus bas, mieux c'est.*</front>"
   ]
  },
  {
   "cell_type": "markdown",
   "metadata": {},
   "source": [
    "<font size=\"5\">*La vraisemblance est un outil de synthèse des données relatives aux paramètres inconnus.\n",
    "plus elle est grande mieux c'est*</front>"
   ]
  },
  {
   "cell_type": "code",
   "execution_count": 12,
   "metadata": {},
   "outputs": [
    {
     "name": "stdout",
     "output_type": "stream",
     "text": [
      "Log Likelihood:  -3449117797.1804185\n",
      "Perplexity:  444.48319312914316\n",
      "{'batch_size': 128, 'doc_topic_prior': None, 'evaluate_every': -1, 'learning_decay': 0.7, 'learning_method': 'batch', 'learning_offset': 10.0, 'max_doc_update_iter': 100, 'max_iter': 10, 'mean_change_tol': 0.001, 'n_components': 10, 'n_jobs': None, 'n_topics': None, 'perp_tol': 0.1, 'random_state': 0, 'topic_word_prior': None, 'total_samples': 1000000.0, 'verbose': 0}\n"
     ]
    }
   ],
   "source": [
    "# Log Likelyhood: Higher the better\n",
    "print(\"Log Likelihood: \", lda.score(x_train, y_train))\n",
    "\n",
    "# Perplexity: Lower the better. Perplexity = exp(-1. * log-likelihood per word)\n",
    "print(\"Perplexity: \", lda.perplexity(x_test))\n",
    "\n",
    "# See model parameters\n",
    "print(lda.get_params())\n"
   ]
  },
  {
   "cell_type": "code",
   "execution_count": 40,
   "metadata": {},
   "outputs": [],
   "source": [
    "X=mnist_train_bis.values\n",
    "X1=mnist_test_bis.values\n",
    "y=y_train.values"
   ]
  },
  {
   "cell_type": "markdown",
   "metadata": {},
   "source": [
    " <font size=\"+2\">*Vissualization des donnees*</font>"
   ]
  },
  {
   "cell_type": "code",
   "execution_count": 47,
   "metadata": {},
   "outputs": [
    {
     "data": {
      "image/png": "[encoded data removed]",
      "text/plain": [
       "<Figure size 432x288 with 1 Axes>"
      ]
     },
     "metadata": {
      "needs_background": "light"
     },
     "output_type": "display_data"
    }
   ],
   "source": [
    "for i in range(0,8):\n",
    "        plt.scatter(X[:, i], X[:, i+1], c=y, s=50, cmap='autumn')\n",
    "plot_svc_decision_function(model);"
   ]
  },
  {
   "cell_type": "markdown",
   "metadata": {},
   "source": [
    " <font size=\"+2\">*Encoder DATA*</font>"
   ]
  },
  {
   "cell_type": "code",
   "execution_count": 14,
   "metadata": {},
   "outputs": [
    {
     "name": "stderr",
     "output_type": "stream",
     "text": [
      "C:\\Users\\Nazim\\Anaconda3\\envs\\myenv\\lib\\site-packages\\keras\\engine\\saving.py:292: UserWarning: No training configuration found in save file: the model was *not* compiled. Compile it manually.\n",
      "  warnings.warn('No training configuration found in save file: '\n"
     ]
    }
   ],
   "source": [
    "(x_train_encoded, y_train), (x_test_encoded, y_test) = get_encoded_data()"
   ]
  },
  {
   "cell_type": "code",
   "execution_count": 15,
   "metadata": {},
   "outputs": [],
   "source": [
    "x_train_encoded=x_train_encoded[:10000]\n",
    "y_train=y_train[:10000]"
   ]
  },
  {
   "cell_type": "code",
   "execution_count": 16,
   "metadata": {},
   "outputs": [
    {
     "data": {
      "text/plain": [
       "LatentDirichletAllocation(batch_size=128, doc_topic_prior=None,\n",
       "             evaluate_every=-1, learning_decay=0.7,\n",
       "             learning_method='batch', learning_offset=10.0,\n",
       "             max_doc_update_iter=100, max_iter=10, mean_change_tol=0.001,\n",
       "             n_components=10, n_jobs=None, n_topics=None, perp_tol=0.1,\n",
       "             random_state=0, topic_word_prior=None,\n",
       "             total_samples=1000000.0, verbose=0)"
      ]
     },
     "execution_count": 16,
     "metadata": {},
     "output_type": "execute_result"
    }
   ],
   "source": [
    "lda = LatentDirichletAllocation(n_components=10, random_state=0)\n",
    "lda.fit(x_train_encoded) "
   ]
  },
  {
   "cell_type": "code",
   "execution_count": 17,
   "metadata": {},
   "outputs": [
    {
     "name": "stdout",
     "output_type": "stream",
     "text": [
      "Log Likelihood:  -1950605.0770847884\n",
      "Perplexity:  23.277523298009655\n",
      "{'batch_size': 128, 'doc_topic_prior': None, 'evaluate_every': -1, 'learning_decay': 0.7, 'learning_method': 'batch', 'learning_offset': 10.0, 'max_doc_update_iter': 100, 'max_iter': 10, 'mean_change_tol': 0.001, 'n_components': 10, 'n_jobs': None, 'n_topics': None, 'perp_tol': 0.1, 'random_state': 0, 'topic_word_prior': None, 'total_samples': 1000000.0, 'verbose': 0}\n"
     ]
    }
   ],
   "source": [
    "# Log Likelyhood: Higher the better\n",
    "print(\"Log Likelihood: \", lda.score(x_train_encoded, y_train))\n",
    "\n",
    "# Perplexity: Lower the better. Perplexity = exp(-1. * log-likelihood per word)\n",
    "print(\"Perplexity: \", lda.perplexity(x_train_encoded))\n",
    "\n",
    "# See model parameters\n",
    "print(lda.get_params())\n"
   ]
  },
  {
   "cell_type": "code",
   "execution_count": 75,
   "metadata": {},
   "outputs": [
    {
     "data": {
      "image/png": "[encoded data removed]",
      "text/plain": [
       "<Figure size 432x288 with 1 Axes>"
      ]
     },
     "metadata": {
      "needs_background": "light"
     },
     "output_type": "display_data"
    }
   ],
   "source": [
    "for i in range(0,8):\n",
    "        plt.scatter(X[:, i], X[:, i+1], c=y, s=50, cmap='autumn')\n",
    "plot_svc_decision_function(model);"
   ]
  },
  {
   "cell_type": "markdown",
   "metadata": {},
   "source": [
    " <font size=\"+2\">*Pour cette fois les données encoder ont donné de meilleurs résultats pour 2 raison :\n",
    "    1/car plus le log likelihood est supèrieur meilleur est le model \n",
    "    2/ plus la perplexity est petite plus notre model est performant *</font>"
   ]
  },
  {
   "cell_type": "code",
   "execution_count": null,
   "metadata": {},
   "outputs": [],
   "source": []
  }
 ],
 "metadata": {
  "kernelspec": {
   "display_name": "Python 3",
   "language": "python",
   "name": "python3"
  },
  "language_info": {
   "codemirror_mode": {
    "name": "ipython",
    "version": 3
   },
   "file_extension": ".py",
   "mimetype": "text/x-python",
   "name": "python",
   "nbconvert_exporter": "python",
   "pygments_lexer": "ipython3",
   "version": "3.6.8"
  }
 },
 "nbformat": 4,
 "nbformat_minor": 2
}
